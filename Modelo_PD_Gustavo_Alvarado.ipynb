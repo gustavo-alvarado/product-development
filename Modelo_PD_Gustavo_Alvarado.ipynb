{
  "cells": [
    {
      "cell_type": "markdown",
      "metadata": {
        "id": "zhyMulRZqkHJ"
      },
      "source": [
        "# Modelo\n",
        "\n",
        "##### Product Development\n",
        "##### Gustavo Alvarado\n",
        "##### Carnet # 20063401 \n"
      ]
    },
    {
      "cell_type": "code",
      "execution_count": 1,
      "metadata": {
        "colab": {
          "base_uri": "https://localhost:8080/"
        },
        "id": "ajj2ktrVoZf6",
        "outputId": "84279972-e301-4dbe-ea16-29a60dee7929"
      },
      "outputs": [
        {
          "output_type": "stream",
          "name": "stdout",
          "text": [
            "Looking in indexes: https://pypi.org/simple, https://us-python.pkg.dev/colab-wheels/public/simple/\n",
            "Requirement already satisfied: spotipy in /usr/local/lib/python3.7/dist-packages (2.21.0)\n",
            "Requirement already satisfied: requests>=2.25.0 in /usr/local/lib/python3.7/dist-packages (from spotipy) (2.28.1)\n",
            "Requirement already satisfied: redis>=3.5.3 in /usr/local/lib/python3.7/dist-packages (from spotipy) (4.3.4)\n",
            "Requirement already satisfied: urllib3>=1.26.0 in /usr/local/lib/python3.7/dist-packages (from spotipy) (1.26.12)\n",
            "Requirement already satisfied: six>=1.15.0 in /usr/local/lib/python3.7/dist-packages (from spotipy) (1.15.0)\n",
            "Requirement already satisfied: async-timeout>=4.0.2 in /usr/local/lib/python3.7/dist-packages (from redis>=3.5.3->spotipy) (4.0.2)\n",
            "Requirement already satisfied: importlib-metadata>=1.0 in /usr/local/lib/python3.7/dist-packages (from redis>=3.5.3->spotipy) (4.13.0)\n",
            "Requirement already satisfied: typing-extensions in /usr/local/lib/python3.7/dist-packages (from redis>=3.5.3->spotipy) (4.1.1)\n",
            "Requirement already satisfied: deprecated>=1.2.3 in /usr/local/lib/python3.7/dist-packages (from redis>=3.5.3->spotipy) (1.2.13)\n",
            "Requirement already satisfied: packaging>=20.4 in /usr/local/lib/python3.7/dist-packages (from redis>=3.5.3->spotipy) (21.3)\n",
            "Requirement already satisfied: wrapt<2,>=1.10 in /usr/local/lib/python3.7/dist-packages (from deprecated>=1.2.3->redis>=3.5.3->spotipy) (1.14.1)\n",
            "Requirement already satisfied: zipp>=0.5 in /usr/local/lib/python3.7/dist-packages (from importlib-metadata>=1.0->redis>=3.5.3->spotipy) (3.10.0)\n",
            "Requirement already satisfied: pyparsing!=3.0.5,>=2.0.2 in /usr/local/lib/python3.7/dist-packages (from packaging>=20.4->redis>=3.5.3->spotipy) (3.0.9)\n",
            "Requirement already satisfied: certifi>=2017.4.17 in /usr/local/lib/python3.7/dist-packages (from requests>=2.25.0->spotipy) (2022.9.24)\n",
            "Requirement already satisfied: charset-normalizer<3,>=2 in /usr/local/lib/python3.7/dist-packages (from requests>=2.25.0->spotipy) (2.1.1)\n",
            "Requirement already satisfied: idna<4,>=2.5 in /usr/local/lib/python3.7/dist-packages (from requests>=2.25.0->spotipy) (2.10)\n"
          ]
        }
      ],
      "source": [
        "!pip install spotipy"
      ]
    },
    {
      "cell_type": "code",
      "execution_count": 2,
      "metadata": {
        "id": "CuNY1-kAqxf_"
      },
      "outputs": [],
      "source": [
        "import numpy as np \n",
        "import pandas as pd\n",
        "import matplotlib.pyplot as plt\n",
        "import math\n",
        "\n",
        "import spotipy\n",
        "from spotipy.oauth2 import SpotifyClientCredentials"
      ]
    },
    {
      "cell_type": "code",
      "source": [
        "from sklearn.preprocessing import StandardScaler\n",
        "from sklearn.neural_network import MLPClassifier\n",
        "from sklearn.metrics import accuracy_score\n",
        "from sklearn.model_selection import cross_val_score, cross_val_predict\n",
        "from sklearn.model_selection import train_test_split\n",
        "from sklearn.model_selection import GridSearchCV\n",
        "from sklearn.model_selection import cross_validate\n",
        "from sklearn.model_selection import learning_curve\n",
        "\n",
        "import seaborn as sn\n",
        "from sklearn.metrics import confusion_matrix"
      ],
      "metadata": {
        "id": "jdqd-V8j7mLB"
      },
      "execution_count": 3,
      "outputs": []
    },
    {
      "cell_type": "markdown",
      "source": [
        "## Obteniendo características\n",
        "\n",
        "Se obtienen las características de varios *playlists* de canciones en Spotify, utilizando el API de Spotify. Se utilizan plalist existentes que se etiquetan con el estado de ánimo (*mood*) al que se asocian las mismas. "
      ],
      "metadata": {
        "id": "JdvXq4SnDYPE"
      }
    },
    {
      "cell_type": "code",
      "execution_count": 4,
      "metadata": {
        "id": "WltzxYspq2gm"
      },
      "outputs": [],
      "source": [
        "#Credenciales al API de Spotify\n",
        "\n",
        "client_credentials_manager = SpotifyClientCredentials(client_id='5d7ab1656719472d87e78d3869d54a84', client_secret='8c74e7a5644040d4b5b940dfb2860b85')\n",
        "spotify = spotipy.Spotify(client_credentials_manager = client_credentials_manager)"
      ]
    },
    {
      "cell_type": "code",
      "execution_count": 5,
      "metadata": {
        "id": "cMQueoeqsd1_"
      },
      "outputs": [],
      "source": [
        "#Definiendo las características de las canciones a utilizar\n",
        "\n",
        "features_for_mood = ['energy', 'liveness', 'tempo', 'speechiness', 'acousticness', 'instrumentalness', 'danceability', 'duration_ms', 'loudness', 'valence']"
      ]
    },
    {
      "cell_type": "code",
      "source": [
        "#Lista de playlists de entrenamineto\n",
        "\n",
        "playlists = {\n",
        "              'Relaxing':   [\"https://open.spotify.com/playlist/1r4hnyOWexSvylLokn2hUa?si=a622dcb83906450f\",\n",
        "                             \"https://open.spotify.com/playlist/11IcIUefRdjIpy1K5GMdOH?si=83b430249c854434\",\n",
        "                             \"https://open.spotify.com/playlist/37i9dQZF1EIgtU36yawRhM?si=ebe7d6963cc64012\",\n",
        "                             \"https://open.spotify.com/playlist/4WvyO6D61uZJPhi20UHGxC?si=6703bf33c91d48a0\",\n",
        "                             \"https://open.spotify.com/playlist/14B2TwDjtxY6CGyNIFdL0n?si=9a019916cc794017\"],\n",
        "              'Dark':       [\"https://open.spotify.com/playlist/52fjgY5XTdBKrk71TJks1i?si=28df39510a12411e\",\n",
        "                             \"https://open.spotify.com/playlist/5xLGNk2Hqi47S1skLPIIZg?si=bb90318b09644f6a\",\n",
        "                             \"https://open.spotify.com/playlist/37i9dQZF1DX2pSTOxoPbx9?si=bb53d0b029ab4458\",\n",
        "                             \"https://open.spotify.com/playlist/37i9dQZF1DX0Nb1cyWS6Tq?si=9471c48240cd4970\",\n",
        "                             \"https://open.spotify.com/playlist/37i9dQZF1EIhiJN34WszjC?si=1d52ca6e0c724af2\"],\n",
        "              'Aggressive': [\"https://open.spotify.com/playlist/0y1bZzglw6D3t5lPXRmuYS?si=57c0db5e01b9420b\",\n",
        "                             \"https://open.spotify.com/playlist/7rthAUYUFcbEeC8NS8Wh42?si=ab7f353f5f2847b3\",\n",
        "                             \"https://open.spotify.com/playlist/3EMwmI6eeKp7SDTVn5bZCg?si=8240fc67a0034dc2\",\n",
        "                             \"https://open.spotify.com/playlist/2zeT0ZOOdCEXBRWbwKkb5K?si=ad0ebc40274c425e\",\n",
        "                             \"https://open.spotify.com/playlist/5LppGUcdntHEztfoJtnzyq?si=275e7df8696a41bb\"],\n",
        "              'Happy' :     [\"https://open.spotify.com/playlist/1h90L3LP8kAJ7KGjCV2Xfd?si=5e2691af69e544a3\",\n",
        "                             \"https://open.spotify.com/playlist/4AnAUkQNrLKlJCInZGSXRO?si=9846e647548d4026\",\n",
        "                             \"https://open.spotify.com/playlist/37i9dQZF1DXdPec7aLTmlC?si=da5b562443574d4d\",\n",
        "                             \"https://open.spotify.com/playlist/37i9dQZF1EVJSvZp5AOML2?si=9b0c5e7761314ddd\",\n",
        "                             \"https://open.spotify.com/playlist/7s09coXLGbofhNrwSusr4G?si=fbbfdfe82fce472c\"]\n",
        "}\n"
      ],
      "metadata": {
        "id": "bzdvSo6BNDyf"
      },
      "execution_count": 107,
      "outputs": []
    },
    {
      "cell_type": "code",
      "execution_count": 108,
      "metadata": {
        "id": "uWKNUGnZsoO_"
      },
      "outputs": [],
      "source": [
        "#Función para la obtención de las características de las canciones en batch\n",
        "\n",
        "def get_track_features(track_ids, spotify):\n",
        "    batch_size = 25\n",
        "    num_batches = int(math.ceil(len(track_ids) / float(batch_size)))\n",
        "    features_add = []\n",
        "    for i in range(num_batches):\n",
        "        batch_track_ids = track_ids[i * batch_size:min((i + 1) * batch_size, len(track_ids))]\n",
        "        batch_features = spotify.audio_features(tracks=batch_track_ids)\n",
        "        features_add.extend(batch_features)\n",
        "\n",
        "    features_df = pd.DataFrame(features_add).drop(['id', 'analysis_url', 'key', 'mode', 'time_signature',\n",
        "                                                   'track_href', 'type', 'uri'], axis=1)\n",
        "    features_df = features_df[features_for_mood]\n",
        "    return features_df"
      ]
    },
    {
      "cell_type": "code",
      "execution_count": 109,
      "metadata": {
        "colab": {
          "base_uri": "https://localhost:8080/"
        },
        "id": "m_0nllBwtGwo",
        "outputId": "41c5ad63-a7f3-487b-cce6-847b0351d4fd"
      },
      "outputs": [
        {
          "output_type": "stream",
          "name": "stdout",
          "text": [
            "Getting Relaxing Playlist...\n",
            "Getting Dark Playlist...\n",
            "Getting Aggressive Playlist...\n",
            "Getting Happy Playlist...\n"
          ]
        }
      ],
      "source": [
        "#Generando un DataFrame con las características de las canciones\n",
        "\n",
        "tracks = pd.DataFrame()\n",
        "moods = []\n",
        "m = 0\n",
        "\n",
        "for mood, links in playlists.items():\n",
        "    print ('Getting', mood, 'Playlist...')\n",
        "    for link in links:\n",
        "        id = link[34:56]\n",
        "        try:\n",
        "            pl_tracks = spotify.playlist_tracks(id)['items']\n",
        "            ids = [foo['track']['id'] for foo in pl_tracks]\n",
        "        except:\n",
        "            print ('Error with this playlist:', link)\n",
        "            continue\n",
        "        features = get_track_features(ids, spotify)\n",
        "        features['id'] = ids\n",
        "        features['mood'] = mood\n",
        "        tracks = tracks.append(features)\n",
        "    m += 1"
      ]
    },
    {
      "cell_type": "code",
      "execution_count": 110,
      "metadata": {
        "colab": {
          "base_uri": "https://localhost:8080/",
          "height": 424
        },
        "id": "I57yINyptTYZ",
        "outputId": "634f68d0-c19c-42b4-842f-b5ff3713cdee"
      },
      "outputs": [
        {
          "output_type": "execute_result",
          "data": {
            "text/plain": [
              "     energy  liveness    tempo  speechiness  acousticness  instrumentalness  \\\n",
              "0   0.14800    0.0961  143.578       0.0339       0.60300          0.848000   \n",
              "1   0.03670    0.1080  139.730       0.0398       0.70100          0.823000   \n",
              "2   0.05510    0.1250   87.327       0.0380       0.93700          0.855000   \n",
              "3   0.00279    0.0994   73.189       0.0390       0.99100          0.936000   \n",
              "4   0.00128    0.1100   70.752       0.0867       0.99500          0.978000   \n",
              "..      ...       ...      ...          ...           ...               ...   \n",
              "95  0.69800    0.0886   96.021       0.0420       0.00112          0.000115   \n",
              "96  0.49100    0.1590  119.528       0.0403       0.02000          0.008990   \n",
              "97  0.70100    0.1230  110.968       0.0286       0.23500          0.000158   \n",
              "98  0.83700    0.0743  103.072       0.0649       0.01720          0.000000   \n",
              "99  0.78700    0.2620  119.986       0.0583       0.19800          0.000000   \n",
              "\n",
              "    danceability  duration_ms  loudness  valence                      id  \\\n",
              "0          0.413        87500   -19.361   0.0574  04JXK1GuqYWZHaRPpdIiv9   \n",
              "1          0.166        85714   -26.202   0.1350  4525Hx49ZxzUeeaKrlYlaS   \n",
              "2          0.222       102857   -24.982   0.0377  23rqBG7JfLr8TUXuuCGhma   \n",
              "3          0.344        85926   -30.108   0.3930  0xlX5qEah0o5R4TIktSEOG   \n",
              "4          0.469        63333   -34.908   0.0000  2M2TSXsNP1l1oW2CFXhgBu   \n",
              "..           ...          ...       ...      ...                     ...   \n",
              "95         0.652       202067    -4.667   0.4700  3E7dfMvvCLUddWissuqMwr   \n",
              "96         0.749       292613    -9.655   0.5360  3vkQ5DAB1qQMYO4Mr9zJN6   \n",
              "97         0.762       208867    -3.541   0.7420  748mdHapucXQri7IAO8yFK   \n",
              "98         0.743       159863    -5.025   0.2630  0zzVTGyRrWpQu8Fr28NRAv   \n",
              "99         0.770       140500    -3.748   0.5130  0bI7K9Becu2dtXK1Q3cZNB   \n",
              "\n",
              "        mood  \n",
              "0   Relaxing  \n",
              "1   Relaxing  \n",
              "2   Relaxing  \n",
              "3   Relaxing  \n",
              "4   Relaxing  \n",
              "..       ...  \n",
              "95     Happy  \n",
              "96     Happy  \n",
              "97     Happy  \n",
              "98     Happy  \n",
              "99     Happy  \n",
              "\n",
              "[1649 rows x 12 columns]"
            ],
            "text/html": [
              "\n",
              "  <div id=\"df-bf4f7a56-078c-4011-ac19-d93d48b18efb\">\n",
              "    <div class=\"colab-df-container\">\n",
              "      <div>\n",
              "<style scoped>\n",
              "    .dataframe tbody tr th:only-of-type {\n",
              "        vertical-align: middle;\n",
              "    }\n",
              "\n",
              "    .dataframe tbody tr th {\n",
              "        vertical-align: top;\n",
              "    }\n",
              "\n",
              "    .dataframe thead th {\n",
              "        text-align: right;\n",
              "    }\n",
              "</style>\n",
              "<table border=\"1\" class=\"dataframe\">\n",
              "  <thead>\n",
              "    <tr style=\"text-align: right;\">\n",
              "      <th></th>\n",
              "      <th>energy</th>\n",
              "      <th>liveness</th>\n",
              "      <th>tempo</th>\n",
              "      <th>speechiness</th>\n",
              "      <th>acousticness</th>\n",
              "      <th>instrumentalness</th>\n",
              "      <th>danceability</th>\n",
              "      <th>duration_ms</th>\n",
              "      <th>loudness</th>\n",
              "      <th>valence</th>\n",
              "      <th>id</th>\n",
              "      <th>mood</th>\n",
              "    </tr>\n",
              "  </thead>\n",
              "  <tbody>\n",
              "    <tr>\n",
              "      <th>0</th>\n",
              "      <td>0.14800</td>\n",
              "      <td>0.0961</td>\n",
              "      <td>143.578</td>\n",
              "      <td>0.0339</td>\n",
              "      <td>0.60300</td>\n",
              "      <td>0.848000</td>\n",
              "      <td>0.413</td>\n",
              "      <td>87500</td>\n",
              "      <td>-19.361</td>\n",
              "      <td>0.0574</td>\n",
              "      <td>04JXK1GuqYWZHaRPpdIiv9</td>\n",
              "      <td>Relaxing</td>\n",
              "    </tr>\n",
              "    <tr>\n",
              "      <th>1</th>\n",
              "      <td>0.03670</td>\n",
              "      <td>0.1080</td>\n",
              "      <td>139.730</td>\n",
              "      <td>0.0398</td>\n",
              "      <td>0.70100</td>\n",
              "      <td>0.823000</td>\n",
              "      <td>0.166</td>\n",
              "      <td>85714</td>\n",
              "      <td>-26.202</td>\n",
              "      <td>0.1350</td>\n",
              "      <td>4525Hx49ZxzUeeaKrlYlaS</td>\n",
              "      <td>Relaxing</td>\n",
              "    </tr>\n",
              "    <tr>\n",
              "      <th>2</th>\n",
              "      <td>0.05510</td>\n",
              "      <td>0.1250</td>\n",
              "      <td>87.327</td>\n",
              "      <td>0.0380</td>\n",
              "      <td>0.93700</td>\n",
              "      <td>0.855000</td>\n",
              "      <td>0.222</td>\n",
              "      <td>102857</td>\n",
              "      <td>-24.982</td>\n",
              "      <td>0.0377</td>\n",
              "      <td>23rqBG7JfLr8TUXuuCGhma</td>\n",
              "      <td>Relaxing</td>\n",
              "    </tr>\n",
              "    <tr>\n",
              "      <th>3</th>\n",
              "      <td>0.00279</td>\n",
              "      <td>0.0994</td>\n",
              "      <td>73.189</td>\n",
              "      <td>0.0390</td>\n",
              "      <td>0.99100</td>\n",
              "      <td>0.936000</td>\n",
              "      <td>0.344</td>\n",
              "      <td>85926</td>\n",
              "      <td>-30.108</td>\n",
              "      <td>0.3930</td>\n",
              "      <td>0xlX5qEah0o5R4TIktSEOG</td>\n",
              "      <td>Relaxing</td>\n",
              "    </tr>\n",
              "    <tr>\n",
              "      <th>4</th>\n",
              "      <td>0.00128</td>\n",
              "      <td>0.1100</td>\n",
              "      <td>70.752</td>\n",
              "      <td>0.0867</td>\n",
              "      <td>0.99500</td>\n",
              "      <td>0.978000</td>\n",
              "      <td>0.469</td>\n",
              "      <td>63333</td>\n",
              "      <td>-34.908</td>\n",
              "      <td>0.0000</td>\n",
              "      <td>2M2TSXsNP1l1oW2CFXhgBu</td>\n",
              "      <td>Relaxing</td>\n",
              "    </tr>\n",
              "    <tr>\n",
              "      <th>...</th>\n",
              "      <td>...</td>\n",
              "      <td>...</td>\n",
              "      <td>...</td>\n",
              "      <td>...</td>\n",
              "      <td>...</td>\n",
              "      <td>...</td>\n",
              "      <td>...</td>\n",
              "      <td>...</td>\n",
              "      <td>...</td>\n",
              "      <td>...</td>\n",
              "      <td>...</td>\n",
              "      <td>...</td>\n",
              "    </tr>\n",
              "    <tr>\n",
              "      <th>95</th>\n",
              "      <td>0.69800</td>\n",
              "      <td>0.0886</td>\n",
              "      <td>96.021</td>\n",
              "      <td>0.0420</td>\n",
              "      <td>0.00112</td>\n",
              "      <td>0.000115</td>\n",
              "      <td>0.652</td>\n",
              "      <td>202067</td>\n",
              "      <td>-4.667</td>\n",
              "      <td>0.4700</td>\n",
              "      <td>3E7dfMvvCLUddWissuqMwr</td>\n",
              "      <td>Happy</td>\n",
              "    </tr>\n",
              "    <tr>\n",
              "      <th>96</th>\n",
              "      <td>0.49100</td>\n",
              "      <td>0.1590</td>\n",
              "      <td>119.528</td>\n",
              "      <td>0.0403</td>\n",
              "      <td>0.02000</td>\n",
              "      <td>0.008990</td>\n",
              "      <td>0.749</td>\n",
              "      <td>292613</td>\n",
              "      <td>-9.655</td>\n",
              "      <td>0.5360</td>\n",
              "      <td>3vkQ5DAB1qQMYO4Mr9zJN6</td>\n",
              "      <td>Happy</td>\n",
              "    </tr>\n",
              "    <tr>\n",
              "      <th>97</th>\n",
              "      <td>0.70100</td>\n",
              "      <td>0.1230</td>\n",
              "      <td>110.968</td>\n",
              "      <td>0.0286</td>\n",
              "      <td>0.23500</td>\n",
              "      <td>0.000158</td>\n",
              "      <td>0.762</td>\n",
              "      <td>208867</td>\n",
              "      <td>-3.541</td>\n",
              "      <td>0.7420</td>\n",
              "      <td>748mdHapucXQri7IAO8yFK</td>\n",
              "      <td>Happy</td>\n",
              "    </tr>\n",
              "    <tr>\n",
              "      <th>98</th>\n",
              "      <td>0.83700</td>\n",
              "      <td>0.0743</td>\n",
              "      <td>103.072</td>\n",
              "      <td>0.0649</td>\n",
              "      <td>0.01720</td>\n",
              "      <td>0.000000</td>\n",
              "      <td>0.743</td>\n",
              "      <td>159863</td>\n",
              "      <td>-5.025</td>\n",
              "      <td>0.2630</td>\n",
              "      <td>0zzVTGyRrWpQu8Fr28NRAv</td>\n",
              "      <td>Happy</td>\n",
              "    </tr>\n",
              "    <tr>\n",
              "      <th>99</th>\n",
              "      <td>0.78700</td>\n",
              "      <td>0.2620</td>\n",
              "      <td>119.986</td>\n",
              "      <td>0.0583</td>\n",
              "      <td>0.19800</td>\n",
              "      <td>0.000000</td>\n",
              "      <td>0.770</td>\n",
              "      <td>140500</td>\n",
              "      <td>-3.748</td>\n",
              "      <td>0.5130</td>\n",
              "      <td>0bI7K9Becu2dtXK1Q3cZNB</td>\n",
              "      <td>Happy</td>\n",
              "    </tr>\n",
              "  </tbody>\n",
              "</table>\n",
              "<p>1649 rows × 12 columns</p>\n",
              "</div>\n",
              "      <button class=\"colab-df-convert\" onclick=\"convertToInteractive('df-bf4f7a56-078c-4011-ac19-d93d48b18efb')\"\n",
              "              title=\"Convert this dataframe to an interactive table.\"\n",
              "              style=\"display:none;\">\n",
              "        \n",
              "  <svg xmlns=\"http://www.w3.org/2000/svg\" height=\"24px\"viewBox=\"0 0 24 24\"\n",
              "       width=\"24px\">\n",
              "    <path d=\"M0 0h24v24H0V0z\" fill=\"none\"/>\n",
              "    <path d=\"M18.56 5.44l.94 2.06.94-2.06 2.06-.94-2.06-.94-.94-2.06-.94 2.06-2.06.94zm-11 1L8.5 8.5l.94-2.06 2.06-.94-2.06-.94L8.5 2.5l-.94 2.06-2.06.94zm10 10l.94 2.06.94-2.06 2.06-.94-2.06-.94-.94-2.06-.94 2.06-2.06.94z\"/><path d=\"M17.41 7.96l-1.37-1.37c-.4-.4-.92-.59-1.43-.59-.52 0-1.04.2-1.43.59L10.3 9.45l-7.72 7.72c-.78.78-.78 2.05 0 2.83L4 21.41c.39.39.9.59 1.41.59.51 0 1.02-.2 1.41-.59l7.78-7.78 2.81-2.81c.8-.78.8-2.07 0-2.86zM5.41 20L4 18.59l7.72-7.72 1.47 1.35L5.41 20z\"/>\n",
              "  </svg>\n",
              "      </button>\n",
              "      \n",
              "  <style>\n",
              "    .colab-df-container {\n",
              "      display:flex;\n",
              "      flex-wrap:wrap;\n",
              "      gap: 12px;\n",
              "    }\n",
              "\n",
              "    .colab-df-convert {\n",
              "      background-color: #E8F0FE;\n",
              "      border: none;\n",
              "      border-radius: 50%;\n",
              "      cursor: pointer;\n",
              "      display: none;\n",
              "      fill: #1967D2;\n",
              "      height: 32px;\n",
              "      padding: 0 0 0 0;\n",
              "      width: 32px;\n",
              "    }\n",
              "\n",
              "    .colab-df-convert:hover {\n",
              "      background-color: #E2EBFA;\n",
              "      box-shadow: 0px 1px 2px rgba(60, 64, 67, 0.3), 0px 1px 3px 1px rgba(60, 64, 67, 0.15);\n",
              "      fill: #174EA6;\n",
              "    }\n",
              "\n",
              "    [theme=dark] .colab-df-convert {\n",
              "      background-color: #3B4455;\n",
              "      fill: #D2E3FC;\n",
              "    }\n",
              "\n",
              "    [theme=dark] .colab-df-convert:hover {\n",
              "      background-color: #434B5C;\n",
              "      box-shadow: 0px 1px 3px 1px rgba(0, 0, 0, 0.15);\n",
              "      filter: drop-shadow(0px 1px 2px rgba(0, 0, 0, 0.3));\n",
              "      fill: #FFFFFF;\n",
              "    }\n",
              "  </style>\n",
              "\n",
              "      <script>\n",
              "        const buttonEl =\n",
              "          document.querySelector('#df-bf4f7a56-078c-4011-ac19-d93d48b18efb button.colab-df-convert');\n",
              "        buttonEl.style.display =\n",
              "          google.colab.kernel.accessAllowed ? 'block' : 'none';\n",
              "\n",
              "        async function convertToInteractive(key) {\n",
              "          const element = document.querySelector('#df-bf4f7a56-078c-4011-ac19-d93d48b18efb');\n",
              "          const dataTable =\n",
              "            await google.colab.kernel.invokeFunction('convertToInteractive',\n",
              "                                                     [key], {});\n",
              "          if (!dataTable) return;\n",
              "\n",
              "          const docLinkHtml = 'Like what you see? Visit the ' +\n",
              "            '<a target=\"_blank\" href=https://colab.research.google.com/notebooks/data_table.ipynb>data table notebook</a>'\n",
              "            + ' to learn more about interactive tables.';\n",
              "          element.innerHTML = '';\n",
              "          dataTable['output_type'] = 'display_data';\n",
              "          await google.colab.output.renderOutput(dataTable, element);\n",
              "          const docLink = document.createElement('div');\n",
              "          docLink.innerHTML = docLinkHtml;\n",
              "          element.appendChild(docLink);\n",
              "        }\n",
              "      </script>\n",
              "    </div>\n",
              "  </div>\n",
              "  "
            ]
          },
          "metadata": {},
          "execution_count": 110
        }
      ],
      "source": [
        "tracks"
      ]
    },
    {
      "cell_type": "markdown",
      "source": [
        "## Entrenando el modelo\n",
        "\n",
        "Utilizando **sklearn** se divide el modelo en valores de entrenamiento y prueba (80% y 20% respectivamente), se efectúa un escalado de las variables de entrada y se efectúa una clasificación con redes neuronales (*multilayer perceptron*)."
      ],
      "metadata": {
        "id": "WZrxc5_KEHQY"
      }
    },
    {
      "cell_type": "code",
      "execution_count": 111,
      "metadata": {
        "id": "398GtwqD0g1N"
      },
      "outputs": [],
      "source": [
        "#Separando valores de entrenamiento y de prueba\n",
        "\n",
        "train_x, test_x, train_y, test_y = train_test_split(tracks[features_for_mood], tracks['mood'], test_size = 0.20, random_state = 42, stratify=tracks['mood'])"
      ]
    },
    {
      "cell_type": "code",
      "execution_count": 112,
      "metadata": {
        "id": "0-JXv7Hk1n1Q"
      },
      "outputs": [],
      "source": [
        "#Escalando las variables de entrada\n",
        "\n",
        "scaler = StandardScaler()\n",
        "train_scaled = scaler.fit_transform(train_x)"
      ]
    },
    {
      "cell_type": "code",
      "execution_count": 125,
      "metadata": {
        "id": "xe0Q7T1K2Ai8"
      },
      "outputs": [],
      "source": [
        "#Defininendo el modelo de redes neuronales\n",
        "\n",
        "model = MLPClassifier(hidden_layer_sizes=25, max_iter=200000, alpha=0.7)"
      ]
    },
    {
      "cell_type": "code",
      "execution_count": 134,
      "metadata": {
        "colab": {
          "base_uri": "https://localhost:8080/"
        },
        "id": "YYlXPgBG2C7f",
        "outputId": "9e3f4e55-902d-46e1-e484-c5921a3d967a"
      },
      "outputs": [
        {
          "output_type": "execute_result",
          "data": {
            "text/plain": [
              "0.7121212121212122"
            ]
          },
          "metadata": {},
          "execution_count": 134
        }
      ],
      "source": [
        "model.fit(train_scaled, train_y)\n",
        "test_preds = model.predict(scaler.transform(test_x))\n",
        "accuracy_score(test_preds, test_y)"
      ]
    },
    {
      "cell_type": "code",
      "source": [
        "train_preds = model.predict(scaler.transform(train_x))\n",
        "accuracy_score(train_preds, train_y)"
      ],
      "metadata": {
        "colab": {
          "base_uri": "https://localhost:8080/"
        },
        "id": "zaqpOe1gW20z",
        "outputId": "84211536-030c-40cc-89bb-f504666ac689"
      },
      "execution_count": 136,
      "outputs": [
        {
          "output_type": "execute_result",
          "data": {
            "text/plain": [
              "0.7005307050796058"
            ]
          },
          "metadata": {},
          "execution_count": 136
        }
      ]
    },
    {
      "cell_type": "code",
      "source": [
        "#Validando el modelo por medio de la matriz de confusión\n",
        "\n",
        "conf_matrix = confusion_matrix(test_y, test_preds, labels = tracks['mood'].unique().tolist())\n",
        "labels = tracks['mood'].unique().tolist()\n",
        "\n",
        "plt.rcParams['figure.figsize'] = (10,8)\n",
        "ax = plt.subplot()\n",
        "sn.heatmap(conf_matrix, annot=True)\n",
        "ax.set_xlabel('Predicted labels')\n",
        "ax.set_ylabel('True labels')\n",
        "ax.set_title('Confusion Matrix')\n",
        "ax.xaxis.set_ticklabels(labels)\n",
        "ax.yaxis.set_ticklabels(labels)\n",
        "plt.show()"
      ],
      "metadata": {
        "colab": {
          "base_uri": "https://localhost:8080/",
          "height": 513
        },
        "id": "RmExA48K0J2P",
        "outputId": "7dedc541-320e-4cd2-f540-f370b44d981a"
      },
      "execution_count": 135,
      "outputs": [
        {
          "output_type": "display_data",
          "data": {
            "text/plain": [
              "<Figure size 720x576 with 2 Axes>"
            ],
            "image/png": "[encoded data removed]"
          },
          "metadata": {
            "needs_background": "light"
          }
        }
      ]
    },
    {
      "cell_type": "markdown",
      "source": [
        "## Conclusiones\n",
        "\n",
        "El modelo entrenado refleja una exactitud de un 71% con respecto a los datos de prueba y 70% con los datos de entrenamiento. Se efectuaron varios entrenamientos para intentar mejorar la exactitud del modelo, sin embargo no se evidenció ninguna mejora significativa al añadir más *playlists* al modelo de entrenamiento ni efectuando distintos experimentos con distintos parámetros tales como el número de capas ocultas o el valor de **alpha**. Debido a esto se puede concluir que el modelo generado anteriormente es el mejor. "
      ],
      "metadata": {
        "id": "i3LYQQ6CWpGX"
      }
    }
  ],
  "metadata": {
    "colab": {
      "collapsed_sections": [],
      "provenance": []
    },
    "kernelspec": {
      "display_name": "Python 3",
      "name": "python3"
    },
    "language_info": {
      "name": "python"
    }
  },
  "nbformat": 4,
  "nbformat_minor": 0
}